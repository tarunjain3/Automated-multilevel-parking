{
  "nbformat": 4,
  "nbformat_minor": 0,
  "metadata": {
    "colab": {
      "name": "AmazonMLChallenge",
      "provenance": [],
      "include_colab_link": true
    },
    "kernelspec": {
      "name": "python3",
      "display_name": "Python 3"
    },
    "language_info": {
      "name": "python"
    },
    "accelerator": "GPU"
  },
  "cells": [
    {
      "cell_type": "markdown",
      "metadata": {
        "id": "view-in-github",
        "colab_type": "text"
      },
      "source": [
        "<a href=\"https://colab.research.google.com/github/tarunjain3/Automated-multilevel-parking/blob/master/AmazonMLChallenge.ipynb\" target=\"_parent\"><img src=\"https://colab.research.google.com/assets/colab-badge.svg\" alt=\"Open In Colab\"/></a>"
      ]
    },
    {
      "cell_type": "code",
      "metadata": {
        "id": "Cp3-wghLkFh-"
      },
      "source": [
        "# !wget https://s3-ap-southeast-1.amazonaws.com/he-public-data/dataset52a7b21.zip"
      ],
      "execution_count": null,
      "outputs": []
    },
    {
      "cell_type": "code",
      "metadata": {
        "id": "oWU8kQzokcgo"
      },
      "source": [
        "# !ls "
      ],
      "execution_count": null,
      "outputs": []
    },
    {
      "cell_type": "code",
      "metadata": {
        "id": "HoZdtFw6k5S3"
      },
      "source": [
        "# !unzip dataset52a7b21.zip "
      ],
      "execution_count": null,
      "outputs": []
    },
    {
      "cell_type": "code",
      "metadata": {
        "id": "XZqa1VbVk-k3"
      },
      "source": [
        "# !ls dataset/"
      ],
      "execution_count": null,
      "outputs": []
    },
    {
      "cell_type": "code",
      "metadata": {
        "colab": {
          "base_uri": "https://localhost:8080/"
        },
        "id": "0pt0sUJJlJty",
        "outputId": "b434aec1-ae14-4c11-a0fa-2212de3df09e"
      },
      "source": [
        "from google.colab import drive\n",
        "drive.mount('/content/drive')"
      ],
      "execution_count": null,
      "outputs": [
        {
          "output_type": "stream",
          "text": [
            "Drive already mounted at /content/drive; to attempt to forcibly remount, call drive.mount(\"/content/drive\", force_remount=True).\n"
          ],
          "name": "stdout"
        }
      ]
    },
    {
      "cell_type": "code",
      "metadata": {
        "id": "QZwyNWORlS4T"
      },
      "source": [
        "# !mv dataset \"/content/drive/My Drive\""
      ],
      "execution_count": null,
      "outputs": []
    },
    {
      "cell_type": "code",
      "metadata": {
        "id": "BdRcyoismMVY"
      },
      "source": [
        "import pandas as pd\n",
        "import numpy as np\n",
        "import matplotlib.pyplot as plt\n",
        "import csv"
      ],
      "execution_count": null,
      "outputs": []
    },
    {
      "cell_type": "code",
      "metadata": {
        "colab": {
          "base_uri": "https://localhost:8080/",
          "height": 348
        },
        "id": "CclVsm94mz0I",
        "outputId": "4b93b1e8-0708-4824-b914-ab606778cada"
      },
      "source": [
        "base_dir = '/content/drive/My Drive/dataset'\n",
        "\n",
        "train_data = pd.read_csv(base_dir + \"/train.csv\", escapechar = '\\\\', quoting = csv.QUOTE_NONE)\n",
        "train_data.head(10)"
      ],
      "execution_count": null,
      "outputs": [
        {
          "output_type": "execute_result",
          "data": {
            "text/html": [
              "<div>\n",
              "<style scoped>\n",
              "    .dataframe tbody tr th:only-of-type {\n",
              "        vertical-align: middle;\n",
              "    }\n",
              "\n",
              "    .dataframe tbody tr th {\n",
              "        vertical-align: top;\n",
              "    }\n",
              "\n",
              "    .dataframe thead th {\n",
              "        text-align: right;\n",
              "    }\n",
              "</style>\n",
              "<table border=\"1\" class=\"dataframe\">\n",
              "  <thead>\n",
              "    <tr style=\"text-align: right;\">\n",
              "      <th></th>\n",
              "      <th>TITLE</th>\n",
              "      <th>DESCRIPTION</th>\n",
              "      <th>BULLET_POINTS</th>\n",
              "      <th>BRAND</th>\n",
              "      <th>BROWSE_NODE_ID</th>\n",
              "    </tr>\n",
              "  </thead>\n",
              "  <tbody>\n",
              "    <tr>\n",
              "      <th>0</th>\n",
              "      <td>Pete The Cat Bedtime Blues Doll, 14.5 Inch</td>\n",
              "      <td>Pete the Cat is the coolest, most popular cat ...</td>\n",
              "      <td>[Pete the Cat Bedtime Blues plush doll,Based o...</td>\n",
              "      <td>MerryMakers</td>\n",
              "      <td>0</td>\n",
              "    </tr>\n",
              "    <tr>\n",
              "      <th>1</th>\n",
              "      <td>The New Yorker NYHM014 Refrigerator Magnet, 2 ...</td>\n",
              "      <td>The New Yorker Handsome Cello Wrapped Hard Mag...</td>\n",
              "      <td>[Cat In A Tea Cup by New Yorker cover artist G...</td>\n",
              "      <td>The New Yorker</td>\n",
              "      <td>1</td>\n",
              "    </tr>\n",
              "    <tr>\n",
              "      <th>2</th>\n",
              "      <td>The Ultimate Self-Sufficiency Handbook: A Comp...</td>\n",
              "      <td>NaN</td>\n",
              "      <td>Skyhorse Publishing</td>\n",
              "      <td>imusti</td>\n",
              "      <td>2</td>\n",
              "    </tr>\n",
              "    <tr>\n",
              "      <th>3</th>\n",
              "      <td>Amway Nutrilite Kids Chewable Iron Tablets (100)</td>\n",
              "      <td>NaN</td>\n",
              "      <td>[Nutrilite Kids,Chewable Iron Tablets,Quantity...</td>\n",
              "      <td>Amway</td>\n",
              "      <td>3</td>\n",
              "    </tr>\n",
              "    <tr>\n",
              "      <th>4</th>\n",
              "      <td>Teacher Planner Company A4 6 Lesson Academic T...</td>\n",
              "      <td>NaN</td>\n",
              "      <td>NaN</td>\n",
              "      <td>NaN</td>\n",
              "      <td>4</td>\n",
              "    </tr>\n",
              "    <tr>\n",
              "      <th>5</th>\n",
              "      <td>Men'S Full Sleeve Raglan T-Shirts Denim T-Shir...</td>\n",
              "      <td>Men'S Full Sleeve Raglan T-Shirts Denim T-Shir...</td>\n",
              "      <td>[Color: Blue,Sleeve: Full Sleeve,Material: Cot...</td>\n",
              "      <td>Bhavya Enterprise</td>\n",
              "      <td>5</td>\n",
              "    </tr>\n",
              "    <tr>\n",
              "      <th>6</th>\n",
              "      <td>Glance Women's Wallet (Black) (LW-21)</td>\n",
              "      <td>This Black wallet by Glance will be a treasure...</td>\n",
              "      <td>[The Most Comfortable Women's Wallet That You ...</td>\n",
              "      <td>Glance</td>\n",
              "      <td>6</td>\n",
              "    </tr>\n",
              "    <tr>\n",
              "      <th>7</th>\n",
              "      <td>Wild Animals Hungry Brain Educational Flash Ca...</td>\n",
              "      <td>Wild Animals are the animals that mostly stays...</td>\n",
              "      <td>[Playful learning: Flash cards develops the lo...</td>\n",
              "      <td>hungry brain</td>\n",
              "      <td>7</td>\n",
              "    </tr>\n",
              "    <tr>\n",
              "      <th>8</th>\n",
              "      <td>Hindi Barakhadi Educational Flash Cards for Ki...</td>\n",
              "      <td>Hindi vowel signs and sounds are very importan...</td>\n",
              "      <td>[Playful learning: Flash cards develops the lo...</td>\n",
              "      <td>hungry brain</td>\n",
              "      <td>7</td>\n",
              "    </tr>\n",
              "    <tr>\n",
              "      <th>9</th>\n",
              "      <td>Chapin 1380 Premier Pro 3-Gallon Tri-Poxy Stee...</td>\n",
              "      <td>Chapin 1380 Premier Pro 3-Gallon Tri-Poxy Stee...</td>\n",
              "      <td>NaN</td>\n",
              "      <td>Chapin International</td>\n",
              "      <td>9</td>\n",
              "    </tr>\n",
              "  </tbody>\n",
              "</table>\n",
              "</div>"
            ],
            "text/plain": [
              "                                               TITLE  ... BROWSE_NODE_ID\n",
              "0         Pete The Cat Bedtime Blues Doll, 14.5 Inch  ...              0\n",
              "1  The New Yorker NYHM014 Refrigerator Magnet, 2 ...  ...              1\n",
              "2  The Ultimate Self-Sufficiency Handbook: A Comp...  ...              2\n",
              "3   Amway Nutrilite Kids Chewable Iron Tablets (100)  ...              3\n",
              "4  Teacher Planner Company A4 6 Lesson Academic T...  ...              4\n",
              "5  Men'S Full Sleeve Raglan T-Shirts Denim T-Shir...  ...              5\n",
              "6              Glance Women's Wallet (Black) (LW-21)  ...              6\n",
              "7  Wild Animals Hungry Brain Educational Flash Ca...  ...              7\n",
              "8  Hindi Barakhadi Educational Flash Cards for Ki...  ...              7\n",
              "9  Chapin 1380 Premier Pro 3-Gallon Tri-Poxy Stee...  ...              9\n",
              "\n",
              "[10 rows x 5 columns]"
            ]
          },
          "metadata": {
            "tags": []
          },
          "execution_count": 8
        }
      ]
    },
    {
      "cell_type": "code",
      "metadata": {
        "colab": {
          "base_uri": "https://localhost:8080/"
        },
        "id": "Wx1N6eTlnbk_",
        "outputId": "711bc0c7-798d-4e36-872f-9c9e97e5640b"
      },
      "source": [
        "print(len(np.unique(train_data['BROWSE_NODE_ID'])))"
      ],
      "execution_count": null,
      "outputs": [
        {
          "output_type": "stream",
          "text": [
            "9919\n"
          ],
          "name": "stdout"
        }
      ]
    },
    {
      "cell_type": "code",
      "metadata": {
        "colab": {
          "base_uri": "https://localhost:8080/"
        },
        "id": "mqDR1H7GpgDM",
        "outputId": "db20ab76-32ef-474c-9b69-8942ee8ac097"
      },
      "source": [
        "print((np.where((train_data['DESCRIPTION'] == np.nan))))"
      ],
      "execution_count": null,
      "outputs": [
        {
          "output_type": "stream",
          "text": [
            "(array([], dtype=int64),)\n"
          ],
          "name": "stdout"
        }
      ]
    },
    {
      "cell_type": "code",
      "metadata": {
        "id": "yZ2j0XZiwY-_"
      },
      "source": [
        "df = pd.DataFrame(train_data)"
      ],
      "execution_count": null,
      "outputs": []
    },
    {
      "cell_type": "code",
      "metadata": {
        "id": "N8hhvTJSqTxf"
      },
      "source": [
        "# abc = ['a', np.nan, 'c']\n",
        "# print(type(abc))\n",
        "\n",
        "# abc = np.array(abc)\n",
        "\n",
        "# print(abc)"
      ],
      "execution_count": null,
      "outputs": []
    },
    {
      "cell_type": "code",
      "metadata": {
        "colab": {
          "base_uri": "https://localhost:8080/"
        },
        "id": "tBb8YPGruiPC",
        "outputId": "5da5d11d-e994-4220-8680-e802c5493496"
      },
      "source": [
        "train_data['DESCRIPTION'][:11]"
      ],
      "execution_count": null,
      "outputs": [
        {
          "output_type": "execute_result",
          "data": {
            "text/plain": [
              "0     Pete the Cat is the coolest, most popular cat ...\n",
              "1     The New Yorker Handsome Cello Wrapped Hard Mag...\n",
              "2                                                   NaN\n",
              "3                                                   NaN\n",
              "4                                                   NaN\n",
              "5     Men'S Full Sleeve Raglan T-Shirts Denim T-Shir...\n",
              "6     This Black wallet by Glance will be a treasure...\n",
              "7     Wild Animals are the animals that mostly stays...\n",
              "8     Hindi vowel signs and sounds are very importan...\n",
              "9     Chapin 1380 Premier Pro 3-Gallon Tri-Poxy Stee...\n",
              "10                                                  NaN\n",
              "Name: DESCRIPTION, dtype: object"
            ]
          },
          "metadata": {
            "tags": []
          },
          "execution_count": 13
        }
      ]
    },
    {
      "cell_type": "code",
      "metadata": {
        "colab": {
          "base_uri": "https://localhost:8080/"
        },
        "id": "j1k8MEQPwJow",
        "outputId": "c97c2493-0e85-48ab-cb68-8f4b0ba1d79d"
      },
      "source": [
        "df = df[df['DESCRIPTION'].notnull()]\n",
        "df = df[df['BRAND'].notnull()]\n",
        "df = df[df['TITLE'].notnull()]\n",
        "df = df[df['BULLET_POINTS'].notnull()]\n",
        "\n",
        "print(len(np.unique(df['BROWSE_NODE_ID'])))"
      ],
      "execution_count": null,
      "outputs": [
        {
          "output_type": "stream",
          "text": [
            "9636\n"
          ],
          "name": "stdout"
        }
      ]
    },
    {
      "cell_type": "code",
      "metadata": {
        "colab": {
          "base_uri": "https://localhost:8080/",
          "height": 348
        },
        "id": "kp76bffPwmr3",
        "outputId": "3e790dd5-44fd-4925-ffab-fa56bf294e96"
      },
      "source": [
        "df.tail(10)"
      ],
      "execution_count": null,
      "outputs": [
        {
          "output_type": "execute_result",
          "data": {
            "text/html": [
              "<div>\n",
              "<style scoped>\n",
              "    .dataframe tbody tr th:only-of-type {\n",
              "        vertical-align: middle;\n",
              "    }\n",
              "\n",
              "    .dataframe tbody tr th {\n",
              "        vertical-align: top;\n",
              "    }\n",
              "\n",
              "    .dataframe thead th {\n",
              "        text-align: right;\n",
              "    }\n",
              "</style>\n",
              "<table border=\"1\" class=\"dataframe\">\n",
              "  <thead>\n",
              "    <tr style=\"text-align: right;\">\n",
              "      <th></th>\n",
              "      <th>TITLE</th>\n",
              "      <th>DESCRIPTION</th>\n",
              "      <th>BULLET_POINTS</th>\n",
              "      <th>BRAND</th>\n",
              "      <th>BROWSE_NODE_ID</th>\n",
              "    </tr>\n",
              "  </thead>\n",
              "  <tbody>\n",
              "    <tr>\n",
              "      <th>2903013</th>\n",
              "      <td>Angel Soft Ladies Lower/Lounge Wear in Blended...</td>\n",
              "      <td>Made of Superior, Blended Cotton-rich Fabric, ...</td>\n",
              "      <td>[Several Color Combos available. Sizes for wom...</td>\n",
              "      <td>Angel Soft</td>\n",
              "      <td>1185</td>\n",
              "    </tr>\n",
              "    <tr>\n",
              "      <th>2903014</th>\n",
              "      <td>MJ CORPORATE MALL Ayurvedic Instant Khadi Hand...</td>\n",
              "      <td>MJ Corporate Mall Ayurvedic Gel Hand Sanitizer...</td>\n",
              "      <td>[Combo Pack 500mlx2 and 200mlx1,Instantly Kill...</td>\n",
              "      <td>MJ CORPORATE MALL</td>\n",
              "      <td>2416</td>\n",
              "    </tr>\n",
              "    <tr>\n",
              "      <th>2903015</th>\n",
              "      <td>CRONEX Presents 100% Waterproof Car Body Cover...</td>\n",
              "      <td>CRONEX presents 100% Waterproof Car Body Cover...</td>\n",
              "      <td>[✔Compatible For-Maruti Suzuki Ignis including...</td>\n",
              "      <td>CRONEX</td>\n",
              "      <td>1590</td>\n",
              "    </tr>\n",
              "    <tr>\n",
              "      <th>2903016</th>\n",
              "      <td>Holy Heart Collections Supremo Zig Zag Line Pr...</td>\n",
              "      <td>Holy Heart Collections presents flower print b...</td>\n",
              "      <td>[Color : Multicolor, Material : Fine Polyester...</td>\n",
              "      <td>Holy Heart Collections</td>\n",
              "      <td>739</td>\n",
              "    </tr>\n",
              "    <tr>\n",
              "      <th>2903017</th>\n",
              "      <td>GVND 6 Pack Abs Exercise Machine with Multi Pu...</td>\n",
              "      <td>&lt;p&gt;&lt;strong&gt;GVND Six pack Abs is the revolution...</td>\n",
              "      <td>[Multiple Exercise Modes: This Abdominal Train...</td>\n",
              "      <td>Gvnd</td>\n",
              "      <td>1835</td>\n",
              "    </tr>\n",
              "    <tr>\n",
              "      <th>2903018</th>\n",
              "      <td>The NXT LVL Liquid Silicone Soft Back Cover Ca...</td>\n",
              "      <td>Product color may slightly vary due to photogr...</td>\n",
              "      <td>[Liquid silicone case compatible with apple pr...</td>\n",
              "      <td>Generic</td>\n",
              "      <td>794481</td>\n",
              "    </tr>\n",
              "    <tr>\n",
              "      <th>2903019</th>\n",
              "      <td>Premium Aviator Sunglasses - HD Polarized (Bri...</td>\n",
              "      <td>These premium Aviator Sunglasses with 5 color ...</td>\n",
              "      <td>[Frame size: Lens height - 56mm, Lens width - ...</td>\n",
              "      <td>Generic</td>\n",
              "      <td>1040</td>\n",
              "    </tr>\n",
              "    <tr>\n",
              "      <th>2903020</th>\n",
              "      <td>Social Distance Stickers - Set of 5 Sticker Sl...</td>\n",
              "      <td>set of 5 prints social distancing sticker self...</td>\n",
              "      <td>[covid19 safety sticker - set of 5 to maintain...</td>\n",
              "      <td>Generic</td>\n",
              "      <td>15199</td>\n",
              "    </tr>\n",
              "    <tr>\n",
              "      <th>2903021</th>\n",
              "      <td>Torr-to Face Shield PACK OF 5 with Adjustable ...</td>\n",
              "      <td>* COMPLETE FACE PROTECTION: Torr-to Face Shiel...</td>\n",
              "      <td>[350 MICRONS PACK OF 5 PCS,COMPLETE FACE PROTE...</td>\n",
              "      <td>TORR-TO</td>\n",
              "      <td>1044933</td>\n",
              "    </tr>\n",
              "    <tr>\n",
              "      <th>2903022</th>\n",
              "      <td>Type-C to 3.5 MM for Oppo R17 Pro Type-C to 3....</td>\n",
              "      <td>Still want to use your favorite earphones/head...</td>\n",
              "      <td>[Indian Connectors: Made for Indian sockets, t...</td>\n",
              "      <td>SHOPBELL</td>\n",
              "      <td>14790</td>\n",
              "    </tr>\n",
              "  </tbody>\n",
              "</table>\n",
              "</div>"
            ],
            "text/plain": [
              "                                                     TITLE  ... BROWSE_NODE_ID\n",
              "2903013  Angel Soft Ladies Lower/Lounge Wear in Blended...  ...           1185\n",
              "2903014  MJ CORPORATE MALL Ayurvedic Instant Khadi Hand...  ...           2416\n",
              "2903015  CRONEX Presents 100% Waterproof Car Body Cover...  ...           1590\n",
              "2903016  Holy Heart Collections Supremo Zig Zag Line Pr...  ...            739\n",
              "2903017  GVND 6 Pack Abs Exercise Machine with Multi Pu...  ...           1835\n",
              "2903018  The NXT LVL Liquid Silicone Soft Back Cover Ca...  ...         794481\n",
              "2903019  Premium Aviator Sunglasses - HD Polarized (Bri...  ...           1040\n",
              "2903020  Social Distance Stickers - Set of 5 Sticker Sl...  ...          15199\n",
              "2903021  Torr-to Face Shield PACK OF 5 with Adjustable ...  ...        1044933\n",
              "2903022  Type-C to 3.5 MM for Oppo R17 Pro Type-C to 3....  ...          14790\n",
              "\n",
              "[10 rows x 5 columns]"
            ]
          },
          "metadata": {
            "tags": []
          },
          "execution_count": 15
        }
      ]
    },
    {
      "cell_type": "code",
      "metadata": {
        "colab": {
          "base_uri": "https://localhost:8080/"
        },
        "id": "TyHMXIPXwvhb",
        "outputId": "dd26afb7-655c-441d-a41f-f37aabe4df34"
      },
      "source": [
        "!pip install transformers"
      ],
      "execution_count": null,
      "outputs": [
        {
          "output_type": "stream",
          "text": [
            "Requirement already satisfied: transformers in /usr/local/lib/python3.7/dist-packages (4.9.1)\n",
            "Requirement already satisfied: packaging in /usr/local/lib/python3.7/dist-packages (from transformers) (21.0)\n",
            "Requirement already satisfied: importlib-metadata in /usr/local/lib/python3.7/dist-packages (from transformers) (4.6.1)\n",
            "Requirement already satisfied: pyyaml>=5.1 in /usr/local/lib/python3.7/dist-packages (from transformers) (5.4.1)\n",
            "Requirement already satisfied: tqdm>=4.27 in /usr/local/lib/python3.7/dist-packages (from transformers) (4.41.1)\n",
            "Requirement already satisfied: tokenizers<0.11,>=0.10.1 in /usr/local/lib/python3.7/dist-packages (from transformers) (0.10.3)\n",
            "Requirement already satisfied: regex!=2019.12.17 in /usr/local/lib/python3.7/dist-packages (from transformers) (2019.12.20)\n",
            "Requirement already satisfied: huggingface-hub==0.0.12 in /usr/local/lib/python3.7/dist-packages (from transformers) (0.0.12)\n",
            "Requirement already satisfied: requests in /usr/local/lib/python3.7/dist-packages (from transformers) (2.23.0)\n",
            "Requirement already satisfied: filelock in /usr/local/lib/python3.7/dist-packages (from transformers) (3.0.12)\n",
            "Requirement already satisfied: sacremoses in /usr/local/lib/python3.7/dist-packages (from transformers) (0.0.45)\n",
            "Requirement already satisfied: numpy>=1.17 in /usr/local/lib/python3.7/dist-packages (from transformers) (1.19.5)\n",
            "Requirement already satisfied: typing-extensions in /usr/local/lib/python3.7/dist-packages (from huggingface-hub==0.0.12->transformers) (3.7.4.3)\n",
            "Requirement already satisfied: pyparsing>=2.0.2 in /usr/local/lib/python3.7/dist-packages (from packaging->transformers) (2.4.7)\n",
            "Requirement already satisfied: zipp>=0.5 in /usr/local/lib/python3.7/dist-packages (from importlib-metadata->transformers) (3.5.0)\n",
            "Requirement already satisfied: urllib3!=1.25.0,!=1.25.1,<1.26,>=1.21.1 in /usr/local/lib/python3.7/dist-packages (from requests->transformers) (1.24.3)\n",
            "Requirement already satisfied: certifi>=2017.4.17 in /usr/local/lib/python3.7/dist-packages (from requests->transformers) (2021.5.30)\n",
            "Requirement already satisfied: chardet<4,>=3.0.2 in /usr/local/lib/python3.7/dist-packages (from requests->transformers) (3.0.4)\n",
            "Requirement already satisfied: idna<3,>=2.5 in /usr/local/lib/python3.7/dist-packages (from requests->transformers) (2.10)\n",
            "Requirement already satisfied: joblib in /usr/local/lib/python3.7/dist-packages (from sacremoses->transformers) (1.0.1)\n",
            "Requirement already satisfied: six in /usr/local/lib/python3.7/dist-packages (from sacremoses->transformers) (1.15.0)\n",
            "Requirement already satisfied: click in /usr/local/lib/python3.7/dist-packages (from sacremoses->transformers) (7.1.2)\n"
          ],
          "name": "stdout"
        }
      ]
    },
    {
      "cell_type": "code",
      "metadata": {
        "id": "feGBsERuw11l"
      },
      "source": [
        "from transformers import AutoTokenizer\n",
        "tokenizer = AutoTokenizer.from_pretrained('bert-base-cased')"
      ],
      "execution_count": null,
      "outputs": []
    },
    {
      "cell_type": "code",
      "metadata": {
        "id": "FY20eXaw0Fai"
      },
      "source": [
        "train_data = {'TITLE': None, \"DESCRIPTION\":None, \"BULLET_POINTS\":None, \"BRAND\":None, \"labels\":None}"
      ],
      "execution_count": null,
      "outputs": []
    },
    {
      "cell_type": "code",
      "metadata": {
        "id": "AZVXXYSn24bD"
      },
      "source": [
        "titles = df['TITLE'].tolist()"
      ],
      "execution_count": null,
      "outputs": []
    },
    {
      "cell_type": "code",
      "metadata": {
        "id": "WfHiTk7431nn"
      },
      "source": [
        "title_id = tokenizer(titles)"
      ],
      "execution_count": null,
      "outputs": []
    },
    {
      "cell_type": "code",
      "metadata": {
        "id": "6QODEtz74eQ0"
      },
      "source": [
        ""
      ],
      "execution_count": null,
      "outputs": []
    }
  ]
}